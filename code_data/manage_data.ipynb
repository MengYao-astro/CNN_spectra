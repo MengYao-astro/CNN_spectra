{
 "cells": [
  {
   "cell_type": "code",
   "execution_count": 10,
   "metadata": {},
   "outputs": [],
   "source": [
    "import numpy as np\n",
    "import sqlite3\n",
    "import csv\n",
    "import os"
   ]
  },
  {
   "cell_type": "code",
   "execution_count": 11,
   "metadata": {},
   "outputs": [],
   "source": [
    "#SQL\n",
    "CREATE_DR5_SNR100_SQL = \"\"\"\n",
    "CREATE TABLE IF NOT EXISTS dr5_SNR100_data(\n",
    "catalogue_obsid INT PRIMARY KEY NOT NULL,\n",
    "catalogue_class TEXT,\n",
    "catalogue_subclass TEXT, \n",
    "stellar_teff FLOAT,\n",
    "stellar_logg FLOAT,\n",
    "stellar_feh FLOAT,\n",
    "class_label INT,\n",
    "subclass_label INT);\n",
    "\"\"\"\n",
    "\n",
    "if os.path.isfile(\"dr5_SNR100.db\"): #Checks if sqlite database already exsits.\n",
    "    os.system(\"rm -rf dr5_SNR100.db\") #If exsits, delete it.\n",
    "db_sqlite = sqlite3.connect('dr5_SNR100.db')\n",
    "sqlite_cursor = db_sqlite.cursor() # Creates a Cursor, that allows us to issue Create Table Stataments\n",
    "sqlite_cursor.execute(CREATE_DR5_SNR100_SQL)\n",
    "\n",
    "with open('dr5_SNR500.csv','r') as filein: \n",
    "    # csv.DictReader uses first line in file for column headings by default\n",
    "    data = csv.DictReader(filein, delimiter = '|') \n",
    "    to_db = [(int(row[\"catalogue_obsid\"]), row[\"catalogue_class\"], row[\"catalogue_subclass\"],\\\n",
    "              None if row[\"stellar_teff\"]=='' else float(row[\"stellar_teff\"]),\\\n",
    "              None if row[\"stellar_logg\"]=='' else float(row[\"stellar_logg\"]),\\\n",
    "              None if row[\"stellar_feh\"]=='' else float(row[\"stellar_feh\"]))\\\n",
    "             for row in data]\n",
    "sqlite_cursor.executemany(\"INSERT INTO dr5_SNR100_data (catalogue_obsid,catalogue_class,catalogue_subclass,\\\n",
    "                            stellar_teff,stellar_logg,stellar_feh) VALUES (?,?,?,?,?,?);\", to_db)\n",
    "db_sqlite.commit()"
   ]
  },
  {
   "cell_type": "code",
   "execution_count": 12,
   "metadata": {},
   "outputs": [
    {
     "name": "stdout",
     "output_type": "stream",
     "text": [
      "The first example of data is  (103032, 'STAR', 'G2', 5909.24, 4.19, 0.067, None, None)\n"
     ]
    }
   ],
   "source": [
    "# Select the #1 data row from our database to have a first look\n",
    "sql_test=\"\"\"\n",
    "SELECT *\n",
    "FROM dr5_SNR100_data\n",
    "LIMIT 1\n",
    "\"\"\"\n",
    "sqlite_cursor.execute(sql_test)\n",
    "data_example = sqlite_cursor.fetchone()\n",
    "print(\"The first example of data is \", data_example)"
   ]
  },
  {
   "cell_type": "code",
   "execution_count": 13,
   "metadata": {},
   "outputs": [
    {
     "name": "stdout",
     "output_type": "stream",
     "text": [
      "Classes of all spectra : \n",
      " [('G2',), ('F5',), ('F2',), ('G3',), ('F0',), ('G0',), ('A2IV',), ('A7V',), ('A1V',), ('F6',), ('A1IV',), ('A6IV',), ('A9V',), ('A8III',), ('A2V',), ('F9',), ('F3',), ('A5V',), ('B9',), ('B6',), ('A3IV',), ('F4',), ('A0III',), ('F8',), ('A7IV',), ('F7',), ('A7III',), ('G4',), ('G8',), ('G1',), ('Non',), ('G7',), ('K3',), ('K1',), ('G5',), ('G6',), ('CV',), ('A3V',), ('G9',), ('K0',), ('A6V',), ('Carbon',), ('WD',), ('A0',)]\n",
      "Number of classes =  44\n"
     ]
    }
   ],
   "source": [
    "# select all kinds of classes\n",
    "sql_classes_set_all=\"\"\"\n",
    "SELECT\n",
    "    DISTINCT(catalogue_subclass)\n",
    "FROM\n",
    "    dr5_SNR100_data\n",
    "\"\"\"\n",
    "sqlite_cursor.execute(sql_classes_set_all)\n",
    "classes_set_all = sqlite_cursor.fetchall()\n",
    "print(\"Classes of all spectra : \\n\",classes_set_all)\n",
    "print(\"Number of classes = \", len(classes_set_all))"
   ]
  },
  {
   "cell_type": "code",
   "execution_count": 14,
   "metadata": {},
   "outputs": [],
   "source": [
    "# select individual class from all data\n",
    "sql_individual_class=\"\"\"\n",
    "SELECT\n",
    "    catalogue_subclass\n",
    "FROM\n",
    "    dr5_SNR100_data\n",
    "\n",
    "\"\"\"\n",
    "sqlite_cursor.execute(sql_individual_class)\n",
    "individual_class = sqlite_cursor.fetchall()"
   ]
  },
  {
   "cell_type": "code",
   "execution_count": 15,
   "metadata": {},
   "outputs": [
    {
     "name": "stdout",
     "output_type": "stream",
     "text": [
      "the tuple(class_label, subclass_label, obsid) for updating is like : (6, 0, 103032)\n"
     ]
    }
   ],
   "source": [
    "# select all obsids as updata indicators.\n",
    "sqlite_cursor.execute(\"SELECT catalogue_obsid FROM dr5_SNR100_data\")\n",
    "obsids = sqlite_cursor.fetchall()\n",
    "#label spectra with their class and subclass\n",
    "update_tuples_list=[] # consists of (id,class_label,subclass_label)\n",
    "for i in range(len(individual_class)):\n",
    "    if individual_class[i] == (\"Non\",):\n",
    "        classes_label = -1\n",
    "    elif individual_class[i] == (\"WD\",):\n",
    "        classes_label = 0\n",
    "    elif individual_class[i] == (\"Carbon\",):\n",
    "        classes_label = 1\n",
    "    elif individual_class[i] == (\"CV\",):\n",
    "        classes_label = 2\n",
    "    elif individual_class[i][0][0] == \"B\":\n",
    "        classes_label = 3 \n",
    "    elif individual_class[i][0][0] == \"A\":\n",
    "        classes_label = 4\n",
    "    elif individual_class[i][0][0] == \"F\":\n",
    "        classes_label = 5\n",
    "    elif individual_class[i][0][0] == \"G\":\n",
    "        classes_label = 6\n",
    "    elif individual_class[i][0][0] == \"K\":\n",
    "        classes_label = 7\n",
    "    elif individual_class[i][0][0] == \"M\":\n",
    "        classes_label = 8\n",
    "    else:\n",
    "        classes_label = 9\n",
    "    \n",
    "    subclasses_label = classes_set_all.index(individual_class[i])\n",
    "    update_tuples_list.append((classes_label,subclasses_label,obsids[i][0]))\n",
    "print(\"the tuple(class_label, subclass_label, obsid) for updating is like :\", update_tuples_list[0])"
   ]
  },
  {
   "cell_type": "code",
   "execution_count": 16,
   "metadata": {},
   "outputs": [],
   "source": [
    "# Update labels to databese \n",
    "sqlite_cursor.executemany(\"UPDATE dr5_SNR100_data SET class_label=? , \\\n",
    "subclass_label = ? WHERE catalogue_obsid=?;\", update_tuples_list)\n",
    "db_sqlite.commit()"
   ]
  },
  {
   "cell_type": "code",
   "execution_count": 17,
   "metadata": {},
   "outputs": [
    {
     "name": "stdout",
     "output_type": "stream",
     "text": [
      "updated data example:  (103032, 'STAR', 'G2', 5909.24, 4.19, 0.067, 6, 0)\n"
     ]
    }
   ],
   "source": [
    "# Have a look of our updated database.\n",
    "sqlite_cursor.execute(sql_test)\n",
    "updated_example = sqlite_cursor.fetchone()\n",
    "print(\"updated data example: \",updated_example)"
   ]
  },
  {
   "cell_type": "code",
   "execution_count": 27,
   "metadata": {},
   "outputs": [],
   "source": [
    "#Select data for class-classification\n",
    "sql_obsid_classlabel=\"\"\"\n",
    "SELECT\n",
    "    catalogue_obsid, class_label\n",
    "FROM\n",
    "    dr5_SNR100_data\n",
    "WHERE\n",
    "    class_label != -1\n",
    "\"\"\"\n",
    "sqlite_cursor.execute(sql_obsid_classlabel)\n",
    "obsid_classlabel = sqlite_cursor.fetchall()\n",
    "with open(\"dr5_SNR100_obsid_classlabel.csv\", 'w', newline='') as fileout_class:\n",
    "    writer = csv.writer(fileout_class)\n",
    "    for row in obsid_classlabel:\n",
    "        writer.writerow(row)"
   ]
  },
  {
   "cell_type": "code",
   "execution_count": 31,
   "metadata": {},
   "outputs": [],
   "source": [
    "#Select data for class-classification\n",
    "sql_obsid_subclasslabel=\"\"\"\n",
    "SELECT\n",
    "    catalogue_obsid, subclass_label\n",
    "FROM\n",
    "    dr5_SNR100_data\n",
    "WHERE\n",
    "    class_label != -1\n",
    "\"\"\"\n",
    "sqlite_cursor.execute(sql_obsid_subclasslabel)\n",
    "obsid_subclasslabel = sqlite_cursor.fetchall()\n",
    "with open(\"dr5_SNR100_obsid_subclasslabel.csv\", 'w', newline='') as fileout_subclass:\n",
    "    writer = csv.writer(fileout_subclass)\n",
    "    for row in obsid_subclasslabel:\n",
    "        writer.writerow(row)"
   ]
  },
  {
   "cell_type": "code",
   "execution_count": 35,
   "metadata": {},
   "outputs": [],
   "source": [
    "# Select data for linear regression of T_eff and log(g)\n",
    "sql_obsid_teff_logg = \"\"\"\n",
    "SELECT \n",
    "    catalogue_obsid, stellar_teff, stellar_logg\n",
    "FROM \n",
    "    dr5_SNR100_data\n",
    "WHERE\n",
    "    stellar_teff IS NOT NULL AND\n",
    "    stellar_logg IS NOT NULL\n",
    "\"\"\"\n",
    "sqlite_cursor.execute(sql_obsid_teff_logg)\n",
    "obsid_teff_logg = sqlite_cursor.fetchall()\n",
    "with open(\"dr5_SNR100_obsid_teff_logg.csv\", 'w', newline='') as fileout_teff_logg:\n",
    "    writer = csv.writer(fileout_teff_logg)\n",
    "    for row in obsid_teff_logg:\n",
    "        writer.writerow(row)"
   ]
  },
  {
   "cell_type": "code",
   "execution_count": 39,
   "metadata": {},
   "outputs": [
    {
     "data": {
      "text/plain": [
       "30817"
      ]
     },
     "execution_count": 39,
     "metadata": {},
     "output_type": "execute_result"
    }
   ],
   "source": [
    "len(obsid_teff_logg)"
   ]
  },
  {
   "cell_type": "code",
   "execution_count": 37,
   "metadata": {},
   "outputs": [
    {
     "name": "stdout",
     "output_type": "stream",
     "text": [
      "[ True  True False]\n",
      "[1 2]\n"
     ]
    }
   ],
   "source": [
    "a = np.array([1,2,3])\n",
    "b = np.array([1,2])\n",
    "c = np.in1d(a,b)\n",
    "print(c)\n",
    "print(a[c])"
   ]
  },
  {
   "cell_type": "code",
   "execution_count": null,
   "metadata": {},
   "outputs": [],
   "source": []
  }
 ],
 "metadata": {
  "kernelspec": {
   "display_name": "Python 3",
   "language": "python",
   "name": "python3"
  },
  "language_info": {
   "codemirror_mode": {
    "name": "ipython",
    "version": 3
   },
   "file_extension": ".py",
   "mimetype": "text/x-python",
   "name": "python",
   "nbconvert_exporter": "python",
   "pygments_lexer": "ipython3",
   "version": "3.7.4"
  }
 },
 "nbformat": 4,
 "nbformat_minor": 2
}
